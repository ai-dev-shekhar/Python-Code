{
 "cells": [
  {
   "cell_type": "code",
   "execution_count": 8,
   "metadata": {},
   "outputs": [],
   "source": [
    "# %pip install pandas\n",
    "# %pip install matplotlib"
   ]
  },
  {
   "cell_type": "code",
   "execution_count": 9,
   "metadata": {},
   "outputs": [],
   "source": [
    "import pandas as pd\n",
    "import numpy as np\n",
    "import matplotlib.pyplot as plt"
   ]
  },
  {
   "cell_type": "code",
   "execution_count": 11,
   "metadata": {},
   "outputs": [],
   "source": [
    "first_n = \"John\"\n",
    "last_n = \"Doe\""
   ]
  },
  {
   "cell_type": "code",
   "execution_count": 13,
   "metadata": {},
   "outputs": [
    {
     "name": "stdout",
     "output_type": "stream",
     "text": [
      "My first name is John and last name is Doe\n",
      "My first name is John and last name is Doe\n"
     ]
    }
   ],
   "source": [
    "# Using variables in print\n",
    "print(\"My first name is {} and last name is {}\".format(first_n, last_n)) # Here the order matters\n",
    "print(\"My first name is {first} and last name is {last}\".format(last=last_n, first = first_n))  # The order of variables does not matter as variables are being named"
   ]
  },
  {
   "cell_type": "markdown",
   "metadata": {},
   "source": [
    "### String data types"
   ]
  },
  {
   "cell_type": "code",
   "execution_count": 14,
   "metadata": {},
   "outputs": [],
   "source": [
    "my_str = \"John Doe\""
   ]
  },
  {
   "cell_type": "code",
   "execution_count": 15,
   "metadata": {},
   "outputs": [
    {
     "name": "stdout",
     "output_type": "stream",
     "text": [
      "False\n",
      "False\n",
      "False\n",
      "True\n",
      "False\n",
      "False\n",
      "False\n",
      "True\n",
      "False\n"
     ]
    }
   ],
   "source": [
    "print(my_str.isalnum()) # checks if the string is alphanumeric\n",
    "print(my_str.isalpha()) # checks if the string is alphabets only\n",
    "print(my_str.isdigit()) # checks if the string has digits\n",
    "print(my_str.istitle()) # checks if each word start with a upper case letter, AND the rest of the word are lower case letters\n",
    "print(my_str.isupper()) # checks if the string is in uppercase\n",
    "print(my_str.islower()) # checks if the string is in lowercase\n",
    "print(my_str.isspace()) # checks if the string has spaces\n",
    "print(my_str.startswith('J')) # checks if the string starts with the letter mentioned in parameters, [case-sensitive]\n",
    "print(my_str.endswith('w')) # checks if the string ends with the letter mentioned in parameters, [case-sensitive]"
   ]
  },
  {
   "cell_type": "markdown",
   "metadata": {},
   "source": [
    "### Lists\n",
    "The data structure that is mutable/changeable, ordered sequence of elements. Each element is called an item. It is non-homogenous i.e a list can have multiple type of values inside it. e.g. integer, string etc"
   ]
  },
  {
   "cell_type": "code",
   "execution_count": 20,
   "metadata": {},
   "outputs": [
    {
     "data": {
      "text/plain": [
       "[1, 2, 3, 'John', 9.065]"
      ]
     },
     "execution_count": 20,
     "metadata": {},
     "output_type": "execute_result"
    }
   ],
   "source": [
    "list_ex = [1,2,3,'John', 9.065]\n",
    "list_ex"
   ]
  },
  {
   "cell_type": "code",
   "execution_count": null,
   "metadata": {},
   "outputs": [],
   "source": [
    "# Indexing\n",
    "list_ex[3] # return the 4th element in the list\n",
    "list_ex[2:] # return all the elements after and including the 3rd element\n",
    "list_ex[2:4] # retuns elements from 3rd till the "
   ]
  },
  {
   "cell_type": "code",
   "execution_count": 22,
   "metadata": {},
   "outputs": [
    {
     "data": {
      "text/plain": [
       "[1, 2, 3, 'John', 9.065, 'Doe', 'Doe', ['Hi', 'there!']]"
      ]
     },
     "execution_count": 22,
     "metadata": {},
     "output_type": "execute_result"
    }
   ],
   "source": [
    "# Append\n",
    "list_ex.append('Doe')\n",
    "list_ex.append(['Hi','there!']) # appends the values as a list instead of adding as new elements\n",
    "list_ex\n",
    "\n"
   ]
  },
  {
   "cell_type": "code",
   "execution_count": 23,
   "metadata": {},
   "outputs": [
    {
     "data": {
      "text/plain": [
       "[1, 43, 2, 3, 'John', 9.065, 'Doe', 'Doe', ['Hi', 'there!']]"
      ]
     },
     "execution_count": 23,
     "metadata": {},
     "output_type": "execute_result"
    }
   ],
   "source": [
    "# Insert\n",
    "list_ex.insert(1,43)\n",
    "list_ex"
   ]
  },
  {
   "cell_type": "code",
   "execution_count": 24,
   "metadata": {},
   "outputs": [
    {
     "data": {
      "text/plain": [
       "[1, 2, 3, 4, 5, 6, 7, 8]"
      ]
     },
     "execution_count": 24,
     "metadata": {},
     "output_type": "execute_result"
    }
   ],
   "source": [
    "# Extend\n",
    "list_ex2 = [1,2,3,4,5,6]\n",
    "list_ex2.extend([7,8]) # adds the values as elements\n",
    "list_ex2"
   ]
  },
  {
   "cell_type": "code",
   "execution_count": 25,
   "metadata": {},
   "outputs": [
    {
     "name": "stdout",
     "output_type": "stream",
     "text": [
      "36\n",
      "8\n",
      "1\n"
     ]
    }
   ],
   "source": [
    "# Various methonds for a list\n",
    "print(sum(list_ex2)) # adds the elements in a list\n",
    "print(list_ex2.pop()) # removes the last element of the list\n",
    "print(list_ex2.pop(0)) # removes the 0th element of the list"
   ]
  },
  {
   "cell_type": "code",
   "execution_count": 26,
   "metadata": {},
   "outputs": [
    {
     "name": "stdout",
     "output_type": "stream",
     "text": [
      "2\n",
      "7\n",
      "0\n",
      "1\n",
      "5\n"
     ]
    }
   ],
   "source": [
    "list_ex3 = [1,2,2,3,4,5,1]\n",
    "print(list_ex3.count(1)) #counts and returns the number of time the element is in the list\n",
    "print(len(list_ex3)) #returns the length/size of the list\n",
    "print(list_ex3.index(1)) #returns the index of first occurence\n",
    "print(min(list_ex3)) #returns min of the list\n",
    "print(max(list_ex3 ))"
   ]
  },
  {
   "cell_type": "markdown",
   "metadata": {},
   "source": [
    "### Sets\n",
    "An unordered collection data type that is iterable, mutable and has no duplicate elements. This is based on a data structure called hash table."
   ]
  },
  {
   "cell_type": "code",
   "execution_count": 27,
   "metadata": {},
   "outputs": [
    {
     "name": "stdout",
     "output_type": "stream",
     "text": [
      "{1, 2, 4, 5, 6, 7, 8} <class 'set'>\n",
      "{1, 2, 3, 4, 5} <class 'set'>\n"
     ]
    }
   ],
   "source": [
    "set_var1 = set((1,1,2,2,4,4,5,6,7,8,8,8,8)) # how to convert a data structure to set type\n",
    "set_var2 = {1,2,3,4,5} # initializing a set data type\n",
    "print(set_var1,type(set_var1))\n",
    "print(set_var2,type(set_var2))"
   ]
  },
  {
   "cell_type": "code",
   "execution_count": 29,
   "metadata": {},
   "outputs": [
    {
     "data": {
      "text/plain": [
       "{'Flash', 'aquaman', 'batman', 'superman'}"
      ]
     },
     "execution_count": 29,
     "metadata": {},
     "output_type": "execute_result"
    }
   ],
   "source": [
    "#inbuilt functions of a set\n",
    "set_var3 = {\"batman\", \"superman\", \"aquaman\"}\n",
    "set_var3.add(\"Flash\")\n",
    "set_var3"
   ]
  },
  {
   "cell_type": "code",
   "execution_count": 30,
   "metadata": {},
   "outputs": [
    {
     "data": {
      "text/plain": [
       "{3}"
      ]
     },
     "execution_count": 30,
     "metadata": {},
     "output_type": "execute_result"
    }
   ],
   "source": [
    "# difference\n",
    "print(set_var2.difference(set_var1))\n",
    "# intersection\n",
    "print(set_var2.intersection(set_var1))"
   ]
  },
  {
   "cell_type": "markdown",
   "metadata": {},
   "source": [
    "### Dictionary\n",
    "Collection which is unordered, changeable and indexed. Python dicts are wrtten with curly brackets and they have key:value pairs"
   ]
  },
  {
   "cell_type": "code",
   "execution_count": 32,
   "metadata": {},
   "outputs": [
    {
     "data": {
      "text/plain": [
       "'Honda'"
      ]
     },
     "execution_count": 32,
     "metadata": {},
     "output_type": "execute_result"
    }
   ],
   "source": [
    "# Creating and accessing a dictionary\n",
    "my_dict = {\"car\":\"Honda\", \"bike\":\"Suzuki\", \"ship\": \"Vikrant\"}\n",
    "my_dict['car']"
   ]
  },
  {
   "cell_type": "code",
   "execution_count": 33,
   "metadata": {},
   "outputs": [
    {
     "name": "stdout",
     "output_type": "stream",
     "text": [
      "car\n",
      "bike\n",
      "ship\n",
      "Honda\n",
      "Suzuki\n",
      "Vikrant\n",
      "('car', 'Honda')\n",
      "('bike', 'Suzuki')\n",
      "('ship', 'Vikrant')\n"
     ]
    }
   ],
   "source": [
    "# Iteration in a dict\n",
    "for x in my_dict:\n",
    "    print(x)    # This iterates over keys\n",
    "\n",
    "for x in my_dict.values():\n",
    "    print(x)    # This iterates over values\n",
    "\n",
    "for x in my_dict.items(): # This iterates over key, value pairs\n",
    "    print(x)"
   ]
  },
  {
   "cell_type": "code",
   "execution_count": 35,
   "metadata": {},
   "outputs": [
    {
     "name": "stdout",
     "output_type": "stream",
     "text": [
      "{'car': 'Honda', 'bike': 'Suzuki', 'ship': 'Vikrant', 'tank': 'T90 M Bhishma'}\n",
      "{'car': 'tata', 'bike': 'Suzuki', 'ship': 'Vikrant', 'tank': 'T90 M Bhishma'}\n"
     ]
    }
   ],
   "source": [
    "# Adding new items in a dict\n",
    "my_dict['tank'] = \"T90 M Bhishma\"\n",
    "print(my_dict)\n",
    "\n",
    "#Updating values in a dict\n",
    "my_dict['car'] = \"tata\"\n",
    "print(my_dict)"
   ]
  },
  {
   "cell_type": "code",
   "execution_count": 38,
   "metadata": {},
   "outputs": [
    {
     "name": "stdout",
     "output_type": "stream",
     "text": [
      "<class 'dict'> \n",
      " {'car1': {'merc': 1980}, 'car2': {'audi': 1990}, 'car3': {'fiat': 2000}}\n",
      "{'merc': 1980}\n",
      "1990\n"
     ]
    }
   ],
   "source": [
    "# Nested Dicts and accessing the items\n",
    "car_model1 = {\"merc\":1980}\n",
    "car_model2 = {\"audi\":1990}\n",
    "car_model3 = {\"fiat\":2000}\n",
    "car_type = {'car1':car_model1, 'car2':car_model2, 'car3':car_model3}\n",
    "print(type(car_type),\"\\n\", car_type)\n",
    "\n",
    "#Accessing nested dicts\n",
    "print(car_type['car1'])\n",
    "print(car_type['car2']['audi'])"
   ]
  },
  {
   "cell_type": "markdown",
   "metadata": {},
   "source": [
    "### Tuple\n",
    " "
   ]
  },
  {
   "cell_type": "code",
   "execution_count": 39,
   "metadata": {},
   "outputs": [
    {
     "name": "stdout",
     "output_type": "stream",
     "text": [
      "('Job', 'Fair', 'New')\n",
      "('Hello', 'All')\n"
     ]
    }
   ],
   "source": [
    "my_tuple = ('Job','Fair','New')\n",
    "print(my_tuple)\n",
    "my_tuple = ('Hello','All') # can replace the whole tuple\n",
    "print(my_tuple)\n",
    "# my_tuple[0] = 'Book' # Won't work because tuples are immutable"
   ]
  }
 ],
 "metadata": {
  "kernelspec": {
   "display_name": "Python 3",
   "language": "python",
   "name": "python3"
  },
  "language_info": {
   "codemirror_mode": {
    "name": "ipython",
    "version": 3
   },
   "file_extension": ".py",
   "mimetype": "text/x-python",
   "name": "python",
   "nbconvert_exporter": "python",
   "pygments_lexer": "ipython3",
   "version": "3.11.8"
  }
 },
 "nbformat": 4,
 "nbformat_minor": 2
}
