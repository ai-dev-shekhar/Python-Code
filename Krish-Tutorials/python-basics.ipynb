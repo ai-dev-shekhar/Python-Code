{
 "cells": [
  {
   "cell_type": "code",
   "execution_count": 8,
   "metadata": {},
   "outputs": [],
   "source": [
    "# %pip install pandas\n",
    "# %pip install matplotlib"
   ]
  },
  {
   "cell_type": "code",
   "execution_count": 9,
   "metadata": {},
   "outputs": [],
   "source": [
    "import pandas as pd\n",
    "import numpy as np\n",
    "import matplotlib.pyplot as plt"
   ]
  },
  {
   "cell_type": "code",
   "execution_count": 11,
   "metadata": {},
   "outputs": [],
   "source": [
    "first_n = \"John\"\n",
    "last_n = \"Doe\""
   ]
  },
  {
   "cell_type": "code",
   "execution_count": 13,
   "metadata": {},
   "outputs": [
    {
     "name": "stdout",
     "output_type": "stream",
     "text": [
      "My first name is John and last name is Doe\n",
      "My first name is John and last name is Doe\n"
     ]
    }
   ],
   "source": [
    "# Using variables in print\n",
    "print(\"My first name is {} and last name is {}\".format(first_n, last_n)) # Here the order matters\n",
    "print(\"My first name is {first} and last name is {last}\".format(last=last_n, first = first_n))  # The order of variables does not matter as variables are being named"
   ]
  },
  {
   "cell_type": "markdown",
   "metadata": {},
   "source": [
    "### String data types"
   ]
  },
  {
   "cell_type": "code",
   "execution_count": 14,
   "metadata": {},
   "outputs": [],
   "source": [
    "my_str = \"John Doe\""
   ]
  },
  {
   "cell_type": "code",
   "execution_count": 15,
   "metadata": {},
   "outputs": [
    {
     "name": "stdout",
     "output_type": "stream",
     "text": [
      "False\n",
      "False\n",
      "False\n",
      "True\n",
      "False\n",
      "False\n",
      "False\n",
      "True\n",
      "False\n"
     ]
    }
   ],
   "source": [
    "print(my_str.isalnum()) # checks if the string is alphanumeric\n",
    "print(my_str.isalpha()) # checks if the string is alphabets only\n",
    "print(my_str.isdigit()) # checks if the string has digits\n",
    "print(my_str.istitle()) # checks if each word start with a upper case letter, AND the rest of the word are lower case letters\n",
    "print(my_str.isupper()) # checks if the string is in uppercase\n",
    "print(my_str.islower()) # checks if the string is in lowercase\n",
    "print(my_str.isspace()) # checks if the string has spaces\n",
    "print(my_str.startswith('J')) # checks if the string starts with the letter mentioned in parameters, [case-sensitive]\n",
    "print(my_str.endswith('w')) # checks if the string ends with the letter mentioned in parameters, [case-sensitive]"
   ]
  },
  {
   "cell_type": "markdown",
   "metadata": {},
   "source": [
    "### Lists\n",
    "The data structure that is mutable/changeable, ordered sequence of elements. Each element is called an item. It is non-homogenous i.e a list can have multiple type of values inside it. e.g. integer, string etc"
   ]
  },
  {
   "cell_type": "code",
   "execution_count": 20,
   "metadata": {},
   "outputs": [
    {
     "data": {
      "text/plain": [
       "[1, 2, 3, 'John', 9.065]"
      ]
     },
     "execution_count": 20,
     "metadata": {},
     "output_type": "execute_result"
    }
   ],
   "source": [
    "list_ex = [1,2,3,'John', 9.065]\n",
    "list_ex"
   ]
  },
  {
   "cell_type": "code",
   "execution_count": null,
   "metadata": {},
   "outputs": [],
   "source": [
    "# Indexing\n",
    "list_ex[3] # return the 4th element in the list\n",
    "list_ex[2:] # return all the elements after and including the 3rd element\n",
    "list_ex[2:4] # retuns elements from 3rd till the "
   ]
  },
  {
   "cell_type": "code",
   "execution_count": 22,
   "metadata": {},
   "outputs": [
    {
     "data": {
      "text/plain": [
       "[1, 2, 3, 'John', 9.065, 'Doe', 'Doe', ['Hi', 'there!']]"
      ]
     },
     "execution_count": 22,
     "metadata": {},
     "output_type": "execute_result"
    }
   ],
   "source": [
    "# Append\n",
    "list_ex.append('Doe')\n",
    "list_ex.append(['Hi','there!']) # appends the values as a list instead of adding as new elements\n",
    "list_ex\n",
    "\n"
   ]
  },
  {
   "cell_type": "code",
   "execution_count": 23,
   "metadata": {},
   "outputs": [
    {
     "data": {
      "text/plain": [
       "[1, 43, 2, 3, 'John', 9.065, 'Doe', 'Doe', ['Hi', 'there!']]"
      ]
     },
     "execution_count": 23,
     "metadata": {},
     "output_type": "execute_result"
    }
   ],
   "source": [
    "# Insert\n",
    "list_ex.insert(1,43)\n",
    "list_ex"
   ]
  },
  {
   "cell_type": "code",
   "execution_count": 24,
   "metadata": {},
   "outputs": [
    {
     "data": {
      "text/plain": [
       "[1, 2, 3, 4, 5, 6, 7, 8]"
      ]
     },
     "execution_count": 24,
     "metadata": {},
     "output_type": "execute_result"
    }
   ],
   "source": [
    "# Extend\n",
    "list_ex2 = [1,2,3,4,5,6]\n",
    "list_ex2.extend([7,8]) # adds the values as elements\n",
    "list_ex2"
   ]
  },
  {
   "cell_type": "code",
   "execution_count": 25,
   "metadata": {},
   "outputs": [
    {
     "name": "stdout",
     "output_type": "stream",
     "text": [
      "36\n",
      "8\n",
      "1\n"
     ]
    }
   ],
   "source": [
    "# Various methonds for a list\n",
    "print(sum(list_ex2)) # adds the elements in a list\n",
    "print(list_ex2.pop()) # removes the last element of the list\n",
    "print(list_ex2.pop(0)) # removes the 0th element of the list"
   ]
  },
  {
   "cell_type": "code",
   "execution_count": 26,
   "metadata": {},
   "outputs": [
    {
     "name": "stdout",
     "output_type": "stream",
     "text": [
      "2\n",
      "7\n",
      "0\n",
      "1\n",
      "5\n"
     ]
    }
   ],
   "source": [
    "list_ex3 = [1,2,2,3,4,5,1]\n",
    "print(list_ex3.count(1)) #counts and returns the number of time the element is in the list\n",
    "print(len(list_ex3)) #returns the length/size of the list\n",
    "print(list_ex3.index(1)) #returns the index of first occurence\n",
    "print(min(list_ex3)) #returns min of the list\n",
    "print(max(list_ex3 ))"
   ]
  },
  {
   "cell_type": "code",
   "execution_count": null,
   "metadata": {},
   "outputs": [],
   "source": []
  }
 ],
 "metadata": {
  "kernelspec": {
   "display_name": "Python 3",
   "language": "python",
   "name": "python3"
  },
  "language_info": {
   "codemirror_mode": {
    "name": "ipython",
    "version": 3
   },
   "file_extension": ".py",
   "mimetype": "text/x-python",
   "name": "python",
   "nbconvert_exporter": "python",
   "pygments_lexer": "ipython3",
   "version": "3.11.8"
  }
 },
 "nbformat": 4,
 "nbformat_minor": 2
}
