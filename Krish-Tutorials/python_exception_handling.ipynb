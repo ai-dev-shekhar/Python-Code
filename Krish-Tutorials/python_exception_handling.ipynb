{
 "cells": [
  {
   "cell_type": "code",
   "execution_count": 1,
   "metadata": {},
   "outputs": [],
   "source": [
    "import pandas as pd\n",
    "import numpy as np"
   ]
  },
  {
   "cell_type": "markdown",
   "metadata": {},
   "source": [
    "## Exception Handling"
   ]
  },
  {
   "cell_type": "code",
   "execution_count": 2,
   "metadata": {},
   "outputs": [
    {
     "ename": "NameError",
     "evalue": "name 'b' is not defined",
     "output_type": "error",
     "traceback": [
      "\u001b[1;31m---------------------------------------------------------------------------\u001b[0m",
      "\u001b[1;31mNameError\u001b[0m                                 Traceback (most recent call last)",
      "Cell \u001b[1;32mIn[2], line 1\u001b[0m\n\u001b[1;32m----> 1\u001b[0m a \u001b[38;5;241m=\u001b[39m \u001b[43mb\u001b[49m\n",
      "\u001b[1;31mNameError\u001b[0m: name 'b' is not defined"
     ]
    }
   ],
   "source": [
    "a = b"
   ]
  },
  {
   "cell_type": "code",
   "execution_count": 4,
   "metadata": {},
   "outputs": [
    {
     "name": "stdout",
     "output_type": "stream",
     "text": [
      "Some exception has occured\n"
     ]
    }
   ],
   "source": [
    "#  A generic message; it does not return the actual error\n",
    "try:\n",
    "    # Code block where exception can occur\n",
    "    a = b\n",
    "except:\n",
    "    print(\"Some exception has occured\")"
   ]
  },
  {
   "cell_type": "code",
   "execution_count": 7,
   "metadata": {},
   "outputs": [
    {
     "name": "stdout",
     "output_type": "stream",
     "text": [
      "name 'b' is not defined\n"
     ]
    }
   ],
   "source": [
    "#  A specific message; how to return the actual error\n",
    "try:\n",
    "    # Code block where exception can occur\n",
    "    a = b\n",
    "except Exception as ex:\n",
    "    print(ex)"
   ]
  },
  {
   "cell_type": "code",
   "execution_count": 8,
   "metadata": {},
   "outputs": [
    {
     "name": "stdout",
     "output_type": "stream",
     "text": [
      "The user has not defined a variable\n"
     ]
    }
   ],
   "source": [
    "# When trying to catch specific error types, they need to be above the main exception\n",
    "#  A generic message; it does not return the actual error\n",
    "try:\n",
    "    # Code block where exception can occur\n",
    "    a = b\n",
    "except NameError as name_ex:\n",
    "    print(\"The user has not defined a variable\")\n",
    "except Exception as ex:\n",
    "    print(ex)"
   ]
  },
  {
   "cell_type": "code",
   "execution_count": 11,
   "metadata": {},
   "outputs": [
    {
     "ename": "TypeError",
     "evalue": "unsupported operand type(s) for +: 'int' and 'str'",
     "output_type": "error",
     "traceback": [
      "\u001b[1;31m---------------------------------------------------------------------------\u001b[0m",
      "\u001b[1;31mTypeError\u001b[0m                                 Traceback (most recent call last)",
      "Cell \u001b[1;32mIn[11], line 3\u001b[0m\n\u001b[0;32m      1\u001b[0m a \u001b[38;5;241m=\u001b[39m \u001b[38;5;241m1\u001b[39m\n\u001b[0;32m      2\u001b[0m b \u001b[38;5;241m=\u001b[39m \u001b[38;5;124m'\u001b[39m\u001b[38;5;124mLoL\u001b[39m\u001b[38;5;124m'\u001b[39m\n\u001b[1;32m----> 3\u001b[0m c \u001b[38;5;241m=\u001b[39m \u001b[43ma\u001b[49m\u001b[38;5;241;43m+\u001b[39;49m\u001b[43mb\u001b[49m\n",
      "\u001b[1;31mTypeError\u001b[0m: unsupported operand type(s) for +: 'int' and 'str'"
     ]
    }
   ],
   "source": [
    "a = 1\n",
    "b = 'LoL'\n",
    "c = a+b"
   ]
  },
  {
   "cell_type": "code",
   "execution_count": 10,
   "metadata": {},
   "outputs": [
    {
     "name": "stdout",
     "output_type": "stream",
     "text": [
      "unsupported operand type(s) for +: 'int' and 'str'\n"
     ]
    }
   ],
   "source": [
    "# Trying to create an exception that is not nameError to see how its caught\n",
    "try:\n",
    "    # Code block where exception can occur\n",
    "    a = 1\n",
    "    b = 'LoL'\n",
    "    c = a+b\n",
    "except NameError as name_ex:\n",
    "    print(\"The user has not defined a variable\")\n",
    "except Exception as ex:\n",
    "    print(ex)"
   ]
  },
  {
   "cell_type": "code",
   "execution_count": 12,
   "metadata": {},
   "outputs": [
    {
     "name": "stdout",
     "output_type": "stream",
     "text": [
      "This operation is not supported for different datatypes\n"
     ]
    }
   ],
   "source": [
    "# How to catch the Type error with custom message\n",
    "try:\n",
    "    # Code block where exception can occur\n",
    "    a = 1\n",
    "    b = 'LoL'\n",
    "    c = a+b\n",
    "except NameError as name_ex:\n",
    "    print(\"The user has not defined a variable\")\n",
    "except TypeError: # an alias is not needed as the message is custom\n",
    "    print(\"This operation is not supported for different datatypes\")\n",
    "except Exception as ex:\n",
    "    print(ex)"
   ]
  },
  {
   "cell_type": "code",
   "execution_count": 14,
   "metadata": {},
   "outputs": [
    {
     "name": "stdout",
     "output_type": "stream",
     "text": [
      "division by zero\n"
     ]
    }
   ],
   "source": [
    "# Handling another error which is not being handled explicitly\n",
    "try:\n",
    "    # Code block where exception can occur\n",
    "    a = int(input(\"Enter the first number :\"))\n",
    "    b = int(input(\"Enter the second number :\"))\n",
    "    c = a+b\n",
    "    d = a*b\n",
    "    e = a/b\n",
    "    print(c,\"\\n\", d, \"\\n\", e)\n",
    "except NameError as name_ex:\n",
    "    print(\"The user has not defined a variable\")\n",
    "except TypeError: # an alias is not needed as the message is custom\n",
    "    print(\"This operation is not supported for different datatypes\")\n",
    "except Exception as ex:\n",
    "    print(ex)"
   ]
  },
  {
   "cell_type": "markdown",
   "metadata": {},
   "source": [
    "#### Try..Except...Else"
   ]
  },
  {
   "cell_type": "code",
   "execution_count": null,
   "metadata": {},
   "outputs": [],
   "source": [
    "# Using the Else block\n",
    "try:\n",
    "    # Code block where exception can occur\n",
    "    a = int(input(\"Enter the first number :\"))\n",
    "    b = int(input(\"Enter the second number :\"))\n",
    "    c = a+b\n",
    "    d = a*b\n",
    "    e = a/b\n",
    "except NameError as name_ex:\n",
    "    print(\"The user has not defined a variable\")\n",
    "except TypeError: # an alias is not needed as the message is custom\n",
    "    print(\"This operation is not supported for different datatypes\")\n",
    "except Exception as ex:\n",
    "    print(ex)\n",
    "\n",
    "else: # if there are no exceptions, this block will execute\n",
    "    print(c,\"\\n\", d, \"\\n\", e)"
   ]
  },
  {
   "cell_type": "markdown",
   "metadata": {},
   "source": [
    "#### Try...Except...Else...Finally"
   ]
  },
  {
   "cell_type": "code",
   "execution_count": 16,
   "metadata": {},
   "outputs": [
    {
     "name": "stdout",
     "output_type": "stream",
     "text": [
      "division by zero\n",
      "The execution of the block is complete\n"
     ]
    }
   ],
   "source": [
    "# Using the Finally block\n",
    "try:\n",
    "    # Code block where exception can occur\n",
    "    a = int(input(\"Enter the first number :\"))\n",
    "    b = int(input(\"Enter the second number :\"))\n",
    "    c = a+b\n",
    "    d = a*b\n",
    "    e = a/b\n",
    "except NameError as name_ex:\n",
    "    print(\"The user has not defined a variable\")\n",
    "except TypeError: # an alias is not needed as the message is custom\n",
    "    print(\"This operation is not supported for different datatypes\")\n",
    "except Exception as ex:\n",
    "    print(ex)\n",
    "\n",
    "else: # if there are no exceptions, this block will execute\n",
    "    print(c,\"\\n\", d, \"\\n\", e)\n",
    "\n",
    "finally: # This will get executed at the end. it doesn't matter if an exception was caught or the code was successful. This part can be used to perform operations that are needed at the end of the coe e.g.closing a connection that was opened in the try block\n",
    "    print(\"The execution of the block is complete\")"
   ]
  },
  {
   "cell_type": "code",
   "execution_count": 17,
   "metadata": {},
   "outputs": [
    {
     "name": "stdout",
     "output_type": "stream",
     "text": [
      "56 \n",
      " 759 \n",
      " 1.434782608695652\n",
      "The execution of the block is complete\n"
     ]
    }
   ],
   "source": [
    "# Using the Finally block\n",
    "try:\n",
    "    # Code block where exception can occur\n",
    "    a = int(input(\"Enter the first number :\"))\n",
    "    b = int(input(\"Enter the second number :\"))\n",
    "    c = a+b\n",
    "    d = a*b\n",
    "    e = a/b\n",
    "except NameError as name_ex:\n",
    "    print(\"The user has not defined a variable\")\n",
    "except TypeError: # an alias is not needed as the message is custom\n",
    "    print(\"This operation is not supported for different datatypes\")\n",
    "except Exception as ex:\n",
    "    print(ex)\n",
    "\n",
    "else: # if there are no exceptions, this block will execute\n",
    "    print(c,\"\\n\", d, \"\\n\", e)\n",
    "\n",
    "finally: # This will get executed at the end. it doesn't matter if an exception was caught or the code was successful. This part can be used to perform operations that are needed at the end of the coe e.g.closing a connection that was opened in the try block\n",
    "    print(\"The execution of the block is complete\")"
   ]
  },
  {
   "cell_type": "markdown",
   "metadata": {},
   "source": [
    "## Custom Exception Handling"
   ]
  },
  {
   "cell_type": "code",
   "execution_count": 18,
   "metadata": {},
   "outputs": [],
   "source": [
    "class Error(Exception): # custom base class\n",
    "    pass\n",
    "\n",
    "class dobException(Error): # custom exception class inheriting the above base class\n",
    "    pass"
   ]
  },
  {
   "cell_type": "code",
   "execution_count": 20,
   "metadata": {},
   "outputs": [
    {
     "name": "stdout",
     "output_type": "stream",
     "text": [
      "The age is valid. You are eligible.\n"
     ]
    }
   ],
   "source": [
    "year = int(input(\"Enter the year of birth:\"))\n",
    "age = 2024-year\n",
    "try:\n",
    "    if age<=30 and age >=20:\n",
    "        print(\"The age is valid. You are eligible.\")\n",
    "        pass\n",
    "    else:\n",
    "        raise dobException\n",
    "    \n",
    "except dobException:\n",
    "    print(\"the year age is not valid. You are not eligible.\")"
   ]
  },
  {
   "cell_type": "code",
   "execution_count": null,
   "metadata": {},
   "outputs": [],
   "source": []
  }
 ],
 "metadata": {
  "kernelspec": {
   "display_name": "Python 3",
   "language": "python",
   "name": "python3"
  },
  "language_info": {
   "codemirror_mode": {
    "name": "ipython",
    "version": 3
   },
   "file_extension": ".py",
   "mimetype": "text/x-python",
   "name": "python",
   "nbconvert_exporter": "python",
   "pygments_lexer": "ipython3",
   "version": "3.11.8"
  }
 },
 "nbformat": 4,
 "nbformat_minor": 2
}
