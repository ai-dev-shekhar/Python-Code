{
 "cells": [
  {
   "cell_type": "markdown",
   "metadata": {},
   "source": [
    "# Numpy"
   ]
  },
  {
   "cell_type": "markdown",
   "metadata": {},
   "source": [
    "### Array\n",
    "A data structure that is homogenous i.e stores same type of data. This is where it is different from a list"
   ]
  },
  {
   "cell_type": "code",
   "execution_count": 1,
   "metadata": {},
   "outputs": [],
   "source": [
    "import numpy as np"
   ]
  },
  {
   "cell_type": "code",
   "execution_count": 2,
   "metadata": {},
   "outputs": [
    {
     "name": "stdout",
     "output_type": "stream",
     "text": [
      "<class 'numpy.ndarray'> \n",
      " [1 2 3 4 5]\n"
     ]
    }
   ],
   "source": [
    "my_list = [1,2,3,4,5]\n",
    "arr = np.array(my_list)\n",
    "print(type(arr),'\\n',arr)"
   ]
  },
  {
   "cell_type": "code",
   "execution_count": 3,
   "metadata": {},
   "outputs": [
    {
     "name": "stdout",
     "output_type": "stream",
     "text": [
      "(5,)\n"
     ]
    }
   ],
   "source": [
    "print(arr.shape) # check dimensions of an array"
   ]
  },
  {
   "cell_type": "code",
   "execution_count": 8,
   "metadata": {},
   "outputs": [
    {
     "name": "stdout",
     "output_type": "stream",
     "text": [
      "(3, 5)\n",
      "[[1 2 3 2 1]\n",
      " [3 4 5 6 7]\n",
      " [0 1 1 1 0]]\n",
      "[[1 2 3]\n",
      " [2 1 3]\n",
      " [4 5 6]\n",
      " [7 0 1]\n",
      " [1 1 0]]\n"
     ]
    }
   ],
   "source": [
    "list1 = [1,2,3,2,1]\n",
    "list2 = [3,4,5,6,7]\n",
    "list3 = [0,1,1,1,0]\n",
    "arr2 = np.array([list1,list2,list3])\n",
    "print(arr2.shape)\n",
    "print(arr2)\n",
    "print(arr2.reshape(5,3)) # reshapes the array based on parameters provided"
   ]
  },
  {
   "cell_type": "code",
   "execution_count": 12,
   "metadata": {},
   "outputs": [
    {
     "name": "stdout",
     "output_type": "stream",
     "text": [
      "4\n",
      "[[1 2 3 2 1]\n",
      " [3 4 5 6 7]\n",
      " [0 1 1 1 0]]\n",
      "[[3 2]\n",
      " [5 6]]\n",
      "[[1 1]]\n",
      "[4 5 6]\n"
     ]
    }
   ],
   "source": [
    "# Indexing\n",
    "print(arr[3]) # returns the fourth element of the array\n",
    "print(arr2[:,:]) # the comma inside [] separates the rows and columns \n",
    "print(arr2[0:2,2:4]) # selects the rows 0,1(0:2) and columns 2,3(2:4)\n",
    "print(arr2[2:,2:4])\n",
    "print(arr2[1,1:4])\n"
   ]
  },
  {
   "cell_type": "code",
   "execution_count": 13,
   "metadata": {},
   "outputs": [
    {
     "name": "stdout",
     "output_type": "stream",
     "text": [
      "[ 0  3  6  9 12]\n",
      "[ 1.     1.375  1.75   2.125  2.5    2.875  3.25   3.625  4.     4.375\n",
      "  4.75   5.125  5.5    5.875  6.25   6.625  7.     7.375  7.75   8.125\n",
      "  8.5    8.875  9.25   9.625 10.   ]\n"
     ]
    }
   ],
   "source": [
    "# Functions for an array\n",
    "arr3 = np.arange(0,15,step=3) # creates an array from 0 to 14 with steps=3;steps is optional\n",
    "print(arr3)\n",
    "arr4 = np.linspace(1,10,25) # creates an array from 1 to 10 with 25 digits equidistant from each other\n",
    "print(arr4)"
   ]
  },
  {
   "cell_type": "code",
   "execution_count": 16,
   "metadata": {},
   "outputs": [
    {
     "name": "stdout",
     "output_type": "stream",
     "text": [
      "org_arr -  [0 1 2 3 4 5 6 7 8 9]\n",
      "copy_arr -  [  0   1   2   3 100 100 100 100 100 100]\n",
      "org_arr -  [  0   1   2   3 100 100 100 100 100 100]\n",
      "copy_arr2 -  [  0   1   2   3 100 100 100 100 100 100]\n",
      "org_arr -  [  0   1   2   3 100 100 100 100 100 100]\n",
      "copy_arr2 -  [ 0  1  2  3 50 50 50 50 50 50]\n"
     ]
    }
   ],
   "source": [
    "# copy and broadcast\n",
    "org_arr = np.arange(0,10)\n",
    "print(\"org_arr - \",org_arr)\n",
    "copy_arr = org_arr\n",
    "copy_arr[4:] = 100\n",
    "print(\"copy_arr - \",copy_arr)\n",
    "print(\"org_arr - \",org_arr)\n",
    "# Arrays are reference types i.e when we assign the array to a variable or passing it to a function, a reference to the array is being\n",
    "# passed and not a copy of itself. This is done because it is more memory efficient\n",
    "copy_arr2 = org_arr.copy() # this passes a copy of the array and not the reference\n",
    "print('copy_arr2 - ',copy_arr2)\n",
    "copy_arr2[4:] = 50\n",
    "print(\"org_arr - \",org_arr)\n",
    "print(\"copy_arr2 - \", copy_arr2)"
   ]
  },
  {
   "cell_type": "code",
   "execution_count": 27,
   "metadata": {},
   "outputs": [
    {
     "name": "stdout",
     "output_type": "stream",
     "text": [
      "arr_new -  [ 1  2  3  4  5  6  7  8  9 10]\n",
      "Checking values less than 3 -  [ True  True False False False False False False False False]\n",
      "Printing only less than 5 values -  [1 2 3 4]\n",
      "Multiplying each element by 3 -  [ 3  6  9 12 15 18 21 24 27 30]\n",
      "Multiplication in a list -  [1, 2, 3, 4, 5, 1, 2, 3, 4, 5]\n",
      "creates an array with only 1s of length 6 [1 1 1 1 1 1]\n",
      "Creates a 2D array with 1s of float type - \n",
      " [[1. 1. 1. 1.]\n",
      " [1. 1. 1. 1.]\n",
      " [1. 1. 1. 1.]]\n"
     ]
    }
   ],
   "source": [
    "# Array operations\n",
    "arr_new = np.arange(1,11)\n",
    "print(\"arr_new - \",arr_new)\n",
    "print(\"Checking values less than 3 - \",arr_new<3)\n",
    "print(\"Printing only less than 5 values - \",arr_new[arr_new<5])\n",
    "print(\"Multiplying each element by 3 - \",arr_new*3) # This is different than list. In a list the number of elements increases by 3 times\n",
    "print(\"Multiplication in a list - \",[1,2,3,4,5]*2)\n",
    "print(\"creates an array with only 1s of length 6\",np.ones(6, dtype=int)) #dtype is optional, default is float\n",
    "print(\"Creates a 2D array with 1s of float type - \\n\",np.ones((3,4),dtype=float))"
   ]
  },
  {
   "cell_type": "code",
   "execution_count": 33,
   "metadata": {},
   "outputs": [
    {
     "name": "stdout",
     "output_type": "stream",
     "text": [
      "[[0.60553157 0.82224659 0.47918131]\n",
      " [0.07841325 0.94214785 0.29197856]\n",
      " [0.89335452 0.4071153  0.05891234]]\n",
      "[[-0.99349247  1.6260104  -1.51630451  1.63954888]\n",
      " [-0.30553364  0.64295524 -0.86372012 -1.36892808]\n",
      " [ 0.71250001  1.19145773  0.7512883  -1.40764393]\n",
      " [ 0.11166254 -0.23487621  0.05008688 -0.96848723]]\n",
      "[5 8 8 8 6 1 6 3]\n",
      "[[0 1]\n",
      " [1 1]\n",
      " [9 9]\n",
      " [4 4]]\n",
      "[[0.5218252  0.92448739 0.44380918]\n",
      " [0.00296655 0.3487566  0.9901818 ]]\n"
     ]
    }
   ],
   "source": [
    "# Random distribution\n",
    "print(np.random.rand(3,3)) #Returns random values of the given shape between values 0 and 1\n",
    "print(np.random.randn(4,4)) #Returns an array with values in random distribution\n",
    "print(np.random.randint(0,10,8)) # returns an array of size 8 with values b/w 0 and 100\n",
    "print(np.random.randint(0,10,8).reshape(4,2)) # reshapes the array returned above in a 4x2 array\n",
    "print(np.random.random_sample((2,3))) # Returns an array of size 2x3 with random float values"
   ]
  },
  {
   "cell_type": "markdown",
   "metadata": {},
   "source": [
    "### -------------------------------------"
   ]
  },
  {
   "cell_type": "markdown",
   "metadata": {},
   "source": [
    "# Pandas"
   ]
  },
  {
   "cell_type": "code",
   "execution_count": 34,
   "metadata": {},
   "outputs": [],
   "source": [
    "import pandas as pd\n",
    "import numpy as np"
   ]
  },
  {
   "cell_type": "code",
   "execution_count": 35,
   "metadata": {},
   "outputs": [
    {
     "name": "stdout",
     "output_type": "stream",
     "text": [
      "      Col1  Col2  Col3  Col4\n",
      "Row1     0     1     2     3\n",
      "Row2     4     5     6     7\n",
      "Row3     8     9    10    11\n",
      "Row4    12    13    14    15\n",
      "Row5    16    17    18    19\n"
     ]
    }
   ],
   "source": [
    "df = pd.DataFrame(np.arange(0,20).reshape(5,4), \n",
    "                  index = ['Row1', 'Row2', 'Row3', 'Row4', 'Row5'],\n",
    "                  columns = ['Col1', 'Col2', 'Col3', 'Col4'])\n",
    "print(df.head())"
   ]
  },
  {
   "cell_type": "code",
   "execution_count": 36,
   "metadata": {},
   "outputs": [],
   "source": [
    "# Writing a dataframe to csv file\n",
    "df.to_csv('Test.csv')"
   ]
  },
  {
   "cell_type": "code",
   "execution_count": 50,
   "metadata": {},
   "outputs": [
    {
     "name": "stdout",
     "output_type": "stream",
     "text": [
      "Col1    0\n",
      "Col2    1\n",
      "Col3    2\n",
      "Col4    3\n",
      "Name: Row1, dtype: int32\n",
      "Row1     1\n",
      "Row2     5\n",
      "Row3     9\n",
      "Row4    13\n",
      "Row5    17\n",
      "Name: Col2, dtype: int32\n",
      "      Col2  Col3  Col4\n",
      "Row3     9    10    11\n",
      "Row4    13    14    15\n",
      "Row5    17    18    19\n",
      "accessing a column\n",
      " Row1     0\n",
      "Row2     4\n",
      "Row3     8\n",
      "Row4    12\n",
      "Row5    16\n",
      "Name: Col1, dtype: int32\n"
     ]
    }
   ],
   "source": [
    "# Accessing the elements\n",
    "# 1 - .loc ->  label-based indexing, need to specify row and column labels. \n",
    "# Syntax - df.loc[row_label, column_label]\n",
    "print(df.loc['Row1']) # print a row with all the columns\n",
    "print(df.loc[:,'Col2']) # specifying the rows is necesary, here all rows of Col will be printed\n",
    "print(df.loc['Row3':'Row5','Col2':'Col4'])\n",
    "# 2 - .iloc -> integer-based indexing.\n",
    "# Syntax - df.iloc[row_index, column_index]\n",
    "df.iloc[:1,2:]\n",
    "# When slicing a df, the result is a series if there is one column. If there is more than 1 column it is a df\n",
    "\n",
    "print(\"accessing a column\\n\",df['Col1'])"
   ]
  },
  {
   "cell_type": "code",
   "execution_count": 46,
   "metadata": {},
   "outputs": [
    {
     "name": "stdout",
     "output_type": "stream",
     "text": [
      "[[ 9 10 11]\n",
      " [13 14 15]\n",
      " [17 18 19]]\n",
      "(3, 3)\n"
     ]
    }
   ],
   "source": [
    "# Converting a df into an array\n",
    "print(df.loc['Row3':'Row5','Col2':'Col4'].values) # the .values converts a df to an array\n",
    "print(df.loc['Row3':'Row5','Col2':'Col4'].values.shape) # shape of the array\n"
   ]
  },
  {
   "cell_type": "code",
   "execution_count": 47,
   "metadata": {},
   "outputs": [
    {
     "name": "stdout",
     "output_type": "stream",
     "text": [
      "Col1    0\n",
      "Col2    0\n",
      "Col3    0\n",
      "Col4    0\n",
      "dtype: int64\n"
     ]
    }
   ],
   "source": [
    "# Functions for a dataframe\n",
    "print(df.isnull().sum()) # checks for NULL values\n",
    "print(df['Col1'].value_counts()) # count the occurrences of each unique value in a Series\n",
    "print(df['Col1'].unique()) # displays unique values in a series\n",
    "print(df['Col1'].nunique()) # count the number of unique values in a Series"
   ]
  },
  {
   "cell_type": "code",
   "execution_count": null,
   "metadata": {},
   "outputs": [],
   "source": []
  }
 ],
 "metadata": {
  "kernelspec": {
   "display_name": "Python 3",
   "language": "python",
   "name": "python3"
  },
  "language_info": {
   "codemirror_mode": {
    "name": "ipython",
    "version": 3
   },
   "file_extension": ".py",
   "mimetype": "text/x-python",
   "name": "python",
   "nbconvert_exporter": "python",
   "pygments_lexer": "ipython3",
   "version": "3.11.8"
  }
 },
 "nbformat": 4,
 "nbformat_minor": 2
}
