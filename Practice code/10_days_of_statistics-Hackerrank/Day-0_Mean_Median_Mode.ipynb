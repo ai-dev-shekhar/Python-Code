{
 "cells": [
  {
   "cell_type": "markdown",
   "metadata": {},
   "source": [
    "https://www.hackerrank.com/challenges/s10-basic-statistics/problem?isFullScreen=false"
   ]
  },
  {
   "cell_type": "code",
   "execution_count": null,
   "metadata": {},
   "outputs": [],
   "source": [
    "# Enter your code here. Read input from STDIN. Print output to STDOUT\n",
    "import pandas as pd\n",
    "n = input()\n",
    "n = int(n)\n",
    "x = input()\n",
    "x = x.split(\" \")\n",
    "x = [int(a) for a in x]\n",
    "\n",
    "# Calculating Mean\n",
    "mean_x = sum(x)/n\n",
    "print(mean_x)\n",
    "\n",
    "# Calculating Median\n",
    "def cal_median(x):\n",
    "    sorted_x = sorted(x)\n",
    "    i = round(n/2) #index of the middle element\n",
    "    if n%2 == 0: #even number of elements\n",
    "        return((sorted_x[i-1] + sorted_x[i])/2)\n",
    "    else:\n",
    "        return(sorted_x[i])\n",
    "\n",
    "median_x = cal_median(x)\n",
    "print(median_x)\n",
    "\n",
    "# Calculating Mode\n",
    "df = pd.DataFrame(columns=['number','count'])\n",
    "for elem in list(set(x)):\n",
    "    df.loc[len(df)] = [elem, x.count(elem)]\n",
    "\n",
    "df.sort_values(by=['count', 'number'], ascending=[False,True], inplace=True)\n",
    "print(df.iloc[0]['number'])\n"
   ]
  }
 ],
 "metadata": {
  "kernelspec": {
   "display_name": "Python 3",
   "language": "python",
   "name": "python3"
  },
  "language_info": {
   "name": "python",
   "version": "3.11.8"
  }
 },
 "nbformat": 4,
 "nbformat_minor": 2
}
